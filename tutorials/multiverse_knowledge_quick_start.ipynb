{
 "cells": [
  {
   "cell_type": "markdown",
   "metadata": {
    "editable": false
   },
   "source": [
    "# Multiverse Knowledge"
   ]
  },
  {
   "cell_type": "markdown",
   "metadata": {
    "editable": false
   },
   "source": [
    "Make sure the [Multiverse Framework](https://github.com/Multiverse-Framework/Multiverse) is installed properly."
   ]
  },
  {
   "cell_type": "code",
   "execution_count": 1,
   "metadata": {
    "editable": false
   },
   "outputs": [
    {
     "data": {
      "application/vnd.jupyter.widget-view+json": {
       "model_id": "221fa9f49ad444dcab6d0ea89eccd4ed",
       "version_major": 2,
       "version_minor": 0
      },
      "text/plain": [
       "Output()"
      ]
     },
     "execution_count": 1,
     "metadata": {},
     "output_type": "execute_result"
    }
   ],
   "source": [
    "import os\n",
    "\n",
    "output_dir_path = os.path.join(os.getcwd(), \"..\", \"output\")\n",
    "src_dir_path = os.path.join(os.getcwd(), \"..\", \"src\")\n",
    "\n",
    "import ipywidgets\n",
    "from IPython.display import display\n",
    "import zipfile\n",
    "import subprocess\n",
    "import solara\n",
    "import shutil\n",
    "\n",
    "from utils.display_loading_gif import display_loading_gif\n",
    "\n",
    "out = ipywidgets.Output()\n",
    "\n",
    "house_number_widget = ipywidgets.BoundedIntText(\n",
    "    value=5,\n",
    "    min=1,\n",
    "    max=10000,\n",
    "    step=1,\n",
    "    description='House nr.:',\n",
    "    disabled=False\n",
    ")\n",
    "\n",
    "def zip_directory(directory_path, output_zip):\n",
    "    with zipfile.ZipFile(output_zip, \"w\") as zipf:\n",
    "        for foldername, subfolders, filenames in os.walk(directory_path):\n",
    "            for filename in filenames:\n",
    "                # Create the complete filepath of the file in the directory\n",
    "                file_path = os.path.join(foldername, filename)\n",
    "                # Add file to zip\n",
    "                zipf.write(file_path, os.path.relpath(file_path, directory_path))\n",
    "\n",
    "@out.capture()\n",
    "def on_click_get_knowledge(button):\n",
    "    house_number = house_number_widget.value\n",
    "    process = subprocess.Popen([f'{src_dir_path}/procthor_to_knowledge.bash', f'{house_number}'])\n",
    "    loading_widget = display_loading_gif()\n",
    "    process.wait()\n",
    "\n",
    "    # Copy the knowledge files to the output directory\n",
    "    output_house_dir_path = os.path.join(output_dir_path, f\"house_{house_number}\")\n",
    "    DUL_owl_path = os.path.join(src_dir_path, \"ontology\", \"DUL.owl\")\n",
    "    USD_owl_path = os.path.join(src_dir_path, \"ontology\", \"USD.owl\")\n",
    "    SOMA_owl_path = os.path.join(src_dir_path, \"ontology\", \"SOMA.owl\")\n",
    "    SOMA_DFL_owl_path = os.path.join(src_dir_path, \"ontology\", \"SOMA_DFL_module.owl\")\n",
    "    shutil.copy(DUL_owl_path, output_house_dir_path)\n",
    "    shutil.copy(USD_owl_path, output_house_dir_path)\n",
    "    shutil.copy(SOMA_owl_path, output_house_dir_path)\n",
    "    shutil.copy(SOMA_DFL_owl_path, output_house_dir_path)\n",
    "\n",
    "    output_zip_name = f\"house_{house_number}_scenes_and_knowledge.zip\"\n",
    "    output_zip_path = os.path.join(\"/tmp\", output_zip_name)\n",
    "    zip_directory(output_house_dir_path, output_zip_path)\n",
    "\n",
    "    loading_widget.close()\n",
    "\n",
    "    display(\n",
    "        ipywidgets.VBox(\n",
    "            [\n",
    "                solara.FileDownload.widget(\n",
    "                    data=open(output_zip_path, \"rb\").read(),\n",
    "                    label=f\"Download ZIP (includes USDA, XML, URDF and OWL)\",\n",
    "                    filename=output_zip_name,\n",
    "                )\n",
    "            ]\n",
    "        )\n",
    "    )\n",
    "\n",
    "@out.capture()\n",
    "def on_click_get_house(button):\n",
    "    house_number = house_number_widget.value\n",
    "    process = subprocess.Popen([f'{src_dir_path}/procthor_to_scenes.bash', f'{house_number}'])\n",
    "    loading_widget = display_loading_gif()\n",
    "    process.wait()\n",
    "    loading_widget.close()\n",
    "\n",
    "    output_zip_name = f\"house_{house_number}_scenes.zip\"\n",
    "    output_zip_path = os.path.join(\"/tmp\", output_zip_name)\n",
    "    output_house_dir_path = os.path.join(output_dir_path, f\"house_{house_number}\")\n",
    "    zip_directory(output_house_dir_path, output_zip_path)\n",
    "\n",
    "    get_knowledge_widget = ipywidgets.Button(\n",
    "        description='Get knowledge',\n",
    "        disabled=False,\n",
    "        button_style='', # 'success', 'info', 'warning', 'danger' or ''\n",
    "        tooltip='Get knowledge',\n",
    "        icon='' # (FontAwesome names without the `fa-` prefix)\n",
    "    )\n",
    "    get_knowledge_widget.on_click(on_click_get_knowledge)\n",
    "\n",
    "    display(\n",
    "        ipywidgets.VBox(\n",
    "            [\n",
    "                solara.FileDownload.widget(\n",
    "                    data=open(output_zip_path, \"rb\").read(),\n",
    "                    label=f\"Download ZIP (includes USDA, XML and URDF)\",\n",
    "                    filename=output_zip_name,\n",
    "                )\n",
    "            ]\n",
    "        ),\n",
    "        get_knowledge_widget\n",
    "    )\n",
    "\n",
    "get_house_widget = ipywidgets.Button(\n",
    "    description='Get house',\n",
    "    disabled=False,\n",
    "    button_style='', # 'success', 'info', 'warning', 'danger' or ''\n",
    "    tooltip='Get house',\n",
    "    icon='' # (FontAwesome names without the `fa-` prefix)\n",
    ")\n",
    "get_house_widget.on_click(on_click_get_house)\n",
    "\n",
    "with out:\n",
    "    display(house_number_widget, get_house_widget)\n",
    "\n",
    "out\n"
   ]
  },
  {
   "cell_type": "code",
   "execution_count": null,
   "metadata": {},
   "outputs": [],
   "source": []
  }
 ],
 "metadata": {
  "kernelspec": {
   "display_name": "multiverse",
   "language": "python",
   "name": "multiverse"
  },
  "language_info": {
   "codemirror_mode": {
    "name": "ipython",
    "version": 3
   },
   "file_extension": ".py",
   "mimetype": "text/x-python",
   "name": "python",
   "nbconvert_exporter": "python",
   "pygments_lexer": "ipython3",
   "version": "3.8.10"
  }
 },
 "nbformat": 4,
 "nbformat_minor": 4
}
