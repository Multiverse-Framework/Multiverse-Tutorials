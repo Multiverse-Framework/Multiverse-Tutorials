{
 "cells": [
  {
   "cell_type": "markdown",
   "metadata": {
    "editable": false
   },
   "source": [
    "# Multiverse Parser"
   ]
  },
  {
   "cell_type": "markdown",
   "metadata": {
    "editable": false
   },
   "source": [
    "Make sure the [Multiverse Framework](https://github.com/Multiverse-Framework/Multiverse) is installed properly."
   ]
  },
  {
   "cell_type": "code",
   "execution_count": 1,
   "metadata": {
    "editable": false,
    "jupyter": {
     "source_hidden": true
    },
    "scrolled": true
   },
   "outputs": [
    {
     "data": {
      "application/vnd.jupyter.widget-view+json": {
       "model_id": "3f6cb095a5f74fbaaa171eb0c1c677d8",
       "version_major": 2,
       "version_minor": 0
      },
      "text/plain": [
       "FileUpload(value=(), accept='.zip', description='Upload', multiple=True)"
      ]
     },
     "metadata": {},
     "output_type": "display_data"
    },
    {
     "data": {
      "application/vnd.jupyter.widget-view+json": {
       "model_id": "5a1db7c07a9844cdae4c2516f5a200b7",
       "version_major": 2,
       "version_minor": 0
      },
      "text/plain": [
       "HBox(children=(Label(value='Export as:'), VBox(children=(Checkbox(value=True, description='USDA', indent=False…"
      ]
     },
     "metadata": {},
     "output_type": "display_data"
    },
    {
     "data": {
      "application/vnd.jupyter.widget-view+json": {
       "model_id": "a636b25e9e0c4afb9a443b1a47ccb092",
       "version_major": 2,
       "version_minor": 0
      },
      "text/plain": [
       "VBox(children=(HBox(children=(RadioButtons(description='Visual:', options=('with_visual', 'no_visual'), value=…"
      ]
     },
     "metadata": {},
     "output_type": "display_data"
    },
    {
     "data": {
      "application/vnd.jupyter.widget-view+json": {
       "model_id": "7c6266f6af59495188d2526ad4dcc8b1",
       "version_major": 2,
       "version_minor": 0
      },
      "text/plain": [
       "Label(value='')"
      ]
     },
     "metadata": {},
     "output_type": "display_data"
    }
   ],
   "source": [
    "import ipywidgets\n",
    "from IPython.display import display\n",
    "import zipfile\n",
    "import os\n",
    "import numpy\n",
    "\n",
    "from multiverse_parser import InertiaSource\n",
    "from multiverse_parser import UrdfImporter, MjcfImporter, UsdImporter\n",
    "from multiverse_parser import UrdfExporter, MjcfExporter\n",
    "\n",
    "uploader = ipywidgets.FileUpload(accept='.zip', multiple=True)\n",
    "label = ipywidgets.Label(\"\")\n",
    "usda_widget = ipywidgets.Checkbox(value=True, description='USDA', disabled=False, indent=False)\n",
    "urdf_widget = ipywidgets.Checkbox(value=False, description='URDF', disabled=False, indent=False)\n",
    "mjcf_widget = ipywidgets.Checkbox(value=False, description='MJCF', disabled=False, indent=False)\n",
    "hbox_widget = ipywidgets.HBox([ipywidgets.Label(\"Export as:\"), ipywidgets.VBox([usda_widget, urdf_widget, mjcf_widget])])\n",
    "visual_options = ipywidgets.RadioButtons( options=['with_visual','no_visual'], value='with_visual', description='Visual:', disabled=False)\n",
    "collision_options = ipywidgets.RadioButtons( options=['with_collision','no_collision'], value='with_collision', description='Collision:', disabled=False)\n",
    "physics_options = ipywidgets.RadioButtons( options=['with_physics','no_physics'], value='with_physics', description='Physics:', disabled=False)\n",
    "fixed_base_options = ipywidgets.Checkbox(value=True, description='Fix based', disabled=False, indent=False)\n",
    "inertiasource_options = ipywidgets.ToggleButtons(options=['From source', 'From visual meshes', 'From collision meshes'], description='Inertia source:', disabled=False, button_style='')\n",
    "add_xform_for_each_geom_options = ipywidgets.Checkbox(value=False, description='Add body for each geom (only for input USD)', disabled=False, indent=False)\n",
    "default_color_option = ipywidgets.ColorPicker(concise=False, description='Color', value='red', disabled=False)\n",
    "default_collision_opacity_option = ipywidgets.FloatSlider(\n",
    "    value=0.0,\n",
    "    min=0,\n",
    "    max=1.0,\n",
    "    step=0.1,\n",
    "    description='Opacity:',\n",
    "    disabled=False,\n",
    "    continuous_update=False,\n",
    "    orientation='horizontal',\n",
    "    readout=True,\n",
    "    readout_format='.1f'\n",
    ")\n",
    "hbox_options_widget = ipywidgets.VBox([ipywidgets.HBox([visual_options, collision_options, physics_options]), \n",
    "                                       ipywidgets.VBox([fixed_base_options, add_xform_for_each_geom_options, inertiasource_options]),\n",
    "                                       ipywidgets.Label(\"Default mesh RGBA:\"),\n",
    "                                       ipywidgets.HBox([default_color_option, default_collision_opacity_option])])\n",
    "\n",
    "labels = [label]\n",
    "labels_widget = ipywidgets.HBox(labels)\n",
    "output_dir = os.path.join(os.getcwd(), \"..\", \"output\")\n",
    "\n",
    "def hex_to_rgb(hex_color):\n",
    "    # Remove the '#' character if present\n",
    "    hex_color = hex_color.lstrip('#')\n",
    "    \n",
    "    # Convert hex to RGB tuple\n",
    "    rgb_color = tuple(int(hex_color[i:i+2], 16) for i in (0, 2, 4))\n",
    "\n",
    "    # Normalize the RGB values to the range 0-1\n",
    "    rgb_normalized = tuple(c / 255.0 for c in rgb_color)\n",
    "    \n",
    "    return rgb_normalized\n",
    "\n",
    "def convert(file):\n",
    "    in_extension = os.path.splitext(file)[1]\n",
    "    fixed_base = fixed_base_options.value\n",
    "    with_physics = physics_options.value == \"with_physics\"\n",
    "    with_visual = visual_options.value == \"with_visual\"\n",
    "    with_collision = collision_options.value == \"with_collision\"\n",
    "    rgb = default_color_option.value\n",
    "    if inertiasource_options.value == \"From visual meshes\":\n",
    "        inertia_source = InertiaSource.FROM_VISUAL_MESH\n",
    "    elif inertiasource_options.value == \"From collision meshes\":\n",
    "        inertia_source = InertiaSource.FROM_COLLISION_MESH\n",
    "    elif inertiasource_options.value == \"From source\":\n",
    "        inertia_source = InertiaSource.FROM_SRC\n",
    "    \n",
    "    if rgb == \"red\":\n",
    "        r = 1.0\n",
    "        g = 0.0\n",
    "        b = 0.0\n",
    "    else:\n",
    "        r, g, b = hex_to_rgb(rgb)\n",
    "        \n",
    "    a = float(default_collision_opacity_option.value)\n",
    "    default_rgba = numpy.array([r, g, b, a])\n",
    "    \n",
    "    if in_extension in [\".usd\", \".usda\", \".usdc\"]:\n",
    "        factory = UsdImporter(file_path=file,\n",
    "                              fixed_base=fixed_base,\n",
    "                              with_physics=with_physics,\n",
    "                              with_visual=with_visual,\n",
    "                              with_collision=with_collision,\n",
    "                              inertia_source=inertia_source,\n",
    "                              default_rgba=default_rgba,\n",
    "                              add_xform_for_each_geom=add_xform_for_each_geom.value)\n",
    "    elif in_extension == \".urdf\":\n",
    "        factory = UrdfImporter(file_path=file,\n",
    "                               fixed_base=fixed_base,\n",
    "                               with_physics=with_physics,\n",
    "                               with_visual=with_visual,\n",
    "                               with_collision=with_collision,\n",
    "                               inertia_source=inertia_source,\n",
    "                               default_rgba=default_rgba)\n",
    "    elif in_extension == \".xml\":\n",
    "        factory = MjcfImporter(file_path=file,\n",
    "                               fixed_base=fixed_base,\n",
    "                               with_physics=with_physics,\n",
    "                               with_visual=with_visual,\n",
    "                               with_collision=with_collision,\n",
    "                               inertia_source=inertia_source,\n",
    "                               default_rgba=default_rgba)\n",
    "    else:\n",
    "        raise NotImplementedError(f\"Importing from {in_extension} is not supported yet.\")\n",
    "\n",
    "    factory.import_model()\n",
    "\n",
    "    output_file_name = os.path.splitext(os.path.basename(file))[0]\n",
    "\n",
    "    if usda_widget.value:\n",
    "        output_usd_path = os.path.join(output_dir, output_file_name, output_file_name + \".usda\")\n",
    "        factory.save_tmp_model(usd_file_path=str(output_usd_path))\n",
    "    if mjcf_widget.value:\n",
    "        exporter = MjcfExporter(file_path=os.path.join(output_dir, output_file_name, output_file_name + \".xml\"),\n",
    "                                factory=factory)\n",
    "        exporter.build()\n",
    "        exporter.export(keep_usd=False)\n",
    "    if urdf_widget.value:\n",
    "        exporter = UrdfExporter(file_path=os.path.join(output_dir, output_file_name, output_file_name + \".urdf\"),\n",
    "                                factory=factory)\n",
    "        exporter.build()\n",
    "        exporter.export(keep_usd=False)\n",
    "\n",
    "def find_first_file_with_extension(root_dir, extensions):\n",
    "    # Walk through the directory and look for the first file with the given extensions\n",
    "    for root, dirs, files in os.walk(root_dir):\n",
    "        for file in files:\n",
    "            if file.endswith(extensions):\n",
    "                return os.path.join(root, file)\n",
    "    return None\n",
    "\n",
    "def on_upload_change(change):\n",
    "    if len(uploader.value) != 1:\n",
    "        label.value = \"Please upload exactly one file!\"\n",
    "        return\n",
    "\n",
    "    uploaded_file = uploader.value[0]\n",
    "    \n",
    "    # Extract file content and metadata\n",
    "    file_name = uploaded_file['name']\n",
    "    file_path = os.path.join(\"/tmp\", file_name)    \n",
    "    file_content = uploaded_file['content']\n",
    "\n",
    "    # Save the zip file to disk\n",
    "    with open(file_path, 'wb') as f:\n",
    "        f.write(file_content)\n",
    "\n",
    "    # Unzip the file\n",
    "    try:\n",
    "        with zipfile.ZipFile(file_path, 'r') as zip_ref:\n",
    "            # Create a directory to extract files into\n",
    "            extract_dir = os.path.join(\"/tmp\", file_name.replace(\".zip\", \"\"))\n",
    "            os.makedirs(extract_dir, exist_ok=True)\n",
    "            \n",
    "            # Extract all the contents\n",
    "            zip_ref.extractall(extract_dir)\n",
    "            \n",
    "            label.value = f\"File '{file_name}' uploaded and extracted to {extract_dir} successfully!\"\n",
    "\n",
    "            # Search for the first file with the desired extension\n",
    "            first_file = find_first_file_with_extension(extract_dir, ('.urdf', '.xml', '.usda'))\n",
    "            \n",
    "            if first_file:\n",
    "                label.value += f\" Found {os.path.basename(first_file)} to be converted\"\n",
    "                convert(first_file)\n",
    "            else:\n",
    "                label.value = \"No .urdf, .xml, or .usda files found.\"\n",
    "    except zipfile.BadZipFile:\n",
    "        label.value = \"The uploaded file is not a valid zip file.\"    \n",
    "\n",
    "uploader.observe(on_upload_change, names='value')\n",
    "\n",
    "display(uploader, hbox_widget, hbox_options_widget, label)"
   ]
  }
 ],
 "metadata": {
  "kernelspec": {
   "display_name": "multiverse",
   "language": "python",
   "name": "multiverse"
  },
  "language_info": {
   "codemirror_mode": {
    "name": "ipython",
    "version": 3
   },
   "file_extension": ".py",
   "mimetype": "text/x-python",
   "name": "python",
   "nbconvert_exporter": "python",
   "pygments_lexer": "ipython3",
   "version": "3.8.10"
  }
 },
 "nbformat": 4,
 "nbformat_minor": 4
}
