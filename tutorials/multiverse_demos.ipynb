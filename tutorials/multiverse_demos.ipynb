{
 "cells": [
  {
   "cell_type": "markdown",
   "metadata": {
    "editable": false
   },
   "source": [
    "# Multiverse Parser"
   ]
  },
  {
   "cell_type": "markdown",
   "metadata": {
    "editable": false
   },
   "source": [
    "Make sure the [Multiverse Framework](https://github.com/Multiverse-Framework/Multiverse) is installed properly."
   ]
  },
  {
   "cell_type": "code",
   "execution_count": 1,
   "metadata": {
    "editable": false
   },
   "outputs": [
    {
     "data": {
      "application/vnd.jupyter.widget-view+json": {
       "model_id": "42e145e50e224250852e4668ca31b9b4",
       "version_major": 2,
       "version_minor": 0
      },
      "text/plain": [
       "Output()"
      ]
     },
     "execution_count": 1,
     "metadata": {},
     "output_type": "execute_result"
    }
   ],
   "source": [
    "import os\n",
    "\n",
    "muv_dir = os.path.join(os.getcwd(), \"..\", \"..\", \"Multiverse\", \"multiverse\", \"resources\", \"muv\")\n",
    "\n",
    "import ipywidgets\n",
    "from IPython.display import display\n",
    "\n",
    "import subprocess\n",
    "\n",
    "out = ipywidgets.Output()\n",
    "\n",
    "domains = ['Personal Robotics', 'Outdoor Robotics', 'Industrial Robotics']\n",
    "\n",
    "robot = None\n",
    "env = None\n",
    "\n",
    "def on_click_personal_robotics(button):\n",
    "    robot = widgets['Personal Robotics']['robot'].value\n",
    "    env = widgets['Personal Robotics']['env'].value\n",
    "    cmd_str = [\"multiverse_launch\", f\"{muv_dir}/{robot}_in_{env}.muv\"]\n",
    "    subprocess.Popen(cmd_str)\n",
    "\n",
    "def on_click_outdoor_robotics(button):\n",
    "    robot = widgets['Outdoor Robotics']['robot'].value\n",
    "    env = widgets['Outdoor Robotics']['env'].value\n",
    "    cmd_str = [\"multiverse_launch\", f\"{muv_dir}/{robot}_in_{env}.muv\"]\n",
    "    subprocess.Popen(cmd_str)\n",
    "\n",
    "def on_click_industrial_robotics(button):\n",
    "    robot = widgets['Industrial Robotics']['robot'].value\n",
    "    env = widgets['Industrial Robotics']['env'].value\n",
    "    cmd_str = [\"multiverse_launch\", f\"{muv_dir}/{robot}_with_{env}.muv\"]\n",
    "    subprocess.Popen(cmd_str)\n",
    "\n",
    "widgets = {\n",
    "    domains[0]: {\n",
    "        'robot': ipywidgets.Dropdown(\n",
    "            options=['tiago_dual', 'pr2', 'hsrb'],\n",
    "            value='tiago_dual',\n",
    "            description='Robot:',\n",
    "            disabled=False,\n",
    "        ),\n",
    "        'env': ipywidgets.Dropdown(\n",
    "            options=['apartment'],\n",
    "            value='apartment',\n",
    "            description='Environment:',\n",
    "            disabled=False,\n",
    "        ),\n",
    "        'button': ipywidgets.Button(\n",
    "            description='Start Simulation',\n",
    "            disabled=False,\n",
    "            button_style='',\n",
    "            tooltip='Start Simulation'\n",
    "        )\n",
    "    },\n",
    "    domains[1]: {\n",
    "        'robot': ipywidgets.Dropdown(\n",
    "            options=['LiCAS_A1'],\n",
    "            value='LiCAS_A1',\n",
    "            description='Robot:',\n",
    "            disabled=False,\n",
    "        ),\n",
    "        'env': ipywidgets.Dropdown(\n",
    "            options=['playground'],\n",
    "            value='playground',\n",
    "            description='Environment:',\n",
    "            disabled=False,\n",
    "        ),\n",
    "        'button': ipywidgets.Button(\n",
    "            description='Start Simulation',\n",
    "            disabled=False,\n",
    "            button_style='',\n",
    "            tooltip='Start Simulation'\n",
    "        )\n",
    "    },\n",
    "    domains[2]: {\n",
    "        'robot': ipywidgets.Dropdown(\n",
    "            options=['panda', 'ur5e'],\n",
    "            value='panda',\n",
    "            description='Robot:',\n",
    "            disabled=False,\n",
    "        ),\n",
    "        'env': ipywidgets.Dropdown(\n",
    "            options=['task_board'],\n",
    "            value='task_board',\n",
    "            description='Environment:',\n",
    "            disabled=False,\n",
    "        ),\n",
    "        'button': ipywidgets.Button(\n",
    "            description='Start Simulation',\n",
    "            disabled=False,\n",
    "            button_style='',\n",
    "            tooltip='Start Simulation'\n",
    "        )\n",
    "    },\n",
    "}\n",
    "\n",
    "widgets['Personal Robotics']['button'].on_click(on_click_personal_robotics)\n",
    "widgets['Outdoor Robotics']['button'].on_click(on_click_outdoor_robotics)\n",
    "widgets['Industrial Robotics']['button'].on_click(on_click_industrial_robotics)\n",
    "\n",
    "tab = ipywidgets.Tab()\n",
    "tab.children = [\n",
    "    ipywidgets.VBox([\n",
    "        widgets[domain]['robot'],\n",
    "        widgets[domain]['env'],\n",
    "        widgets[domain]['button']]\n",
    "    ) for domain in domains]\n",
    "tab.titles = domains\n",
    "\n",
    "with out:\n",
    "    display(tab)\n",
    "\n",
    "out\n"
   ]
  }
 ],
 "metadata": {
  "kernelspec": {
   "display_name": "multiverse",
   "language": "python",
   "name": "multiverse"
  },
  "language_info": {
   "codemirror_mode": {
    "name": "ipython",
    "version": 3
   },
   "file_extension": ".py",
   "mimetype": "text/x-python",
   "name": "python",
   "nbconvert_exporter": "python",
   "pygments_lexer": "ipython3",
   "version": "3.8.10"
  }
 },
 "nbformat": 4,
 "nbformat_minor": 4
}
