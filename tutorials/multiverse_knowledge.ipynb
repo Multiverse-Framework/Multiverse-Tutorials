{
 "cells": [
  {
   "cell_type": "markdown",
   "metadata": {
    "editable": false
   },
   "source": [
    "# Multiverse Knowledge"
   ]
  },
  {
   "cell_type": "markdown",
   "metadata": {
    "editable": false
   },
   "source": [
    "Make sure the [Multiverse Framework](https://github.com/Multiverse-Framework/Multiverse) is installed properly."
   ]
  },
  {
   "cell_type": "markdown",
   "metadata": {
    "editable": false
   },
   "source": [
    "## Introduction"
   ]
  },
  {
   "cell_type": "markdown",
   "metadata": {
    "editable": false
   },
   "source": [
    "In cognition-enabled robotics, tasks like \"prepare a breakfast\" require robots to infer specific actions from environmental data, relying heavily on knowledge and reasoning. However, this process is limited by incompatible data formats, redundant data, and a lack of semantic information. Therefore, we take advantage of the\n",
    "Universal Scene Description (USD) format which is an emerging standard for the authoring, visualization and simulation of complex environments. In this tutorial, we investigate the conversion of USD-based environment models into Knowledge Graph (KG) representations that facilitate semantic querying and integration with\n",
    "additional knowledge sources."
   ]
  },
  {
   "cell_type": "markdown",
   "metadata": {
    "editable": false
   },
   "source": [
    "The first step in our method for generating a KG from a USD scene is to establish a USD layer containing class prims representing the TBox ontology. Another layer representing the scene graph imports the TBox USD layer and uses a custom API to tag prims with ontological concepts. The semantic USD scene graph are then translated into the KG."
   ]
  },
  {
   "cell_type": "markdown",
   "metadata": {
    "editable": false
   },
   "source": [
    "![multiverse_knowledge_I1.png](images/multiverse_knowledge_I1.png)"
   ]
  },
  {
   "cell_type": "markdown",
   "metadata": {
    "editable": false
   },
   "source": [
    "## I. Generate a USD layer from an ontology for semantic tagging"
   ]
  },
  {
   "cell_type": "markdown",
   "metadata": {
    "editable": false
   },
   "source": [
    "The first step in the process for generating a KG from a USD scene is to establish a USD layer containing class prims representing the TBox ontology."
   ]
  },
  {
   "cell_type": "code",
   "execution_count": null,
   "metadata": {},
   "outputs": [],
   "source": [
    "RESOURCES=$PWD/../src/ontology\n",
    "OUTPUT=$PWD/../output\n",
    "\n",
    "WORLD=\"dlr_kitchen\" \n",
    "\n",
    "INPUT_OWL_PATH=$RESOURCES/SOMA_DFL_module.owl\n",
    "OUTPUT_USD_PATH=$OUTPUT/$WORLD/usda/${WORLD}_TBox.usda\n",
    "\n",
    "# Depending on the size of the ontology, this could take a while\n",
    "# TBox_to_usd --in_owl=$INPUT_OWL_PATH --out_usd=$OUTPUT_USD_PATH\n",
    "\n",
    "echo \"Output: $OUTPUT_USD_PATH\""
   ]
  },
  {
   "cell_type": "markdown",
   "metadata": {
    "editable": false
   },
   "source": [
    "The result should appear as follows:\n",
    "\n",
    "![multiverse_knowledge_I.png](images/multiverse_knowledge_I.png)"
   ]
  },
  {
   "cell_type": "markdown",
   "metadata": {
    "editable": false
   },
   "source": [
    "## II. Run automatic semantic reporting and semantic tagging based on the object names"
   ]
  },
  {
   "cell_type": "markdown",
   "metadata": {
    "editable": false
   },
   "source": [
    "Before appling semantic information, we enhance labeling with semantic reports. We use the FRED tool to link object names in the scene to entities in the knowledge graph, and when links are missing, we apply heuristic methods."
   ]
  },
  {
   "cell_type": "markdown",
   "metadata": {
    "editable": false
   },
   "source": [
    "The semantic tagging is deployed based on the semantic reporting afterwards."
   ]
  },
  {
   "cell_type": "code",
   "execution_count": null,
   "metadata": {
    "editable": false
   },
   "outputs": [],
   "source": [
    "RESOURCES=$PWD/../resources\n",
    "OUTPUT=$PWD/../output\n",
    "\n",
    "WORLD=\"dlr_kitchen\" \n",
    "\n",
    "INPUT_USD_PATH=$RESOURCES/$WORLD/$WORLD.usda\n",
    "INPUT_TBOX_USD_PATH=$OUTPUT/$WORLD/usda/${WORLD}_TBox.usda\n",
    "OUTPUT_USD_PATH=$OUTPUT/$WORLD/usda/${WORLD}.usda\n",
    "\n",
    "# Run semantic reporting with FRED\n",
    "semantic_reporting --in_usd=$INPUT_USD_PATH --in_TBox_usd=$INPUT_TBOX_USD_PATH --out_usd=$OUTPUT_USD_PATH\n",
    "\n",
    "# Run automatic semantic tagging\n",
    "python $PWD/../src/semantic_tagging.py --in_usd=$OUTPUT_USD_PATH --in_TBox_usd=$INPUT_TBOX_USD_PATH --out_ABox_usd=$OUTPUT_USD_PATH"
   ]
  },
  {
   "cell_type": "markdown",
   "metadata": {
    "editable": false
   },
   "source": [
    "The result should appear as follows:\n",
    "\n",
    "![multiverse_knowledge_II.png](images/multiverse_knowledge_II.png)\n",
    "\n",
    "## III. Use multiverse_view to for semantic labeling"
   ]
  },
  {
   "cell_type": "markdown",
   "metadata": {
    "editable": false
   },
   "source": [
    "After completing semantic reporting and tagging, we should verify the accuracy of our semantic scene graph and make any necessary adjustments to the semantic data. This involves cleaning up the USD scene graph for size optimization and using our visualization tool, [multiverse_view](https://multiverse-framework.github.io/Multiverse-View/), to review the labels."
   ]
  },
  {
   "cell_type": "markdown",
   "metadata": {
    "editable": false
   },
   "source": [
    "### 1. Flatten the above usd file into a single layer"
   ]
  },
  {
   "cell_type": "code",
   "execution_count": null,
   "metadata": {
    "editable": false
   },
   "outputs": [],
   "source": [
    "OUTPUT=$PWD/../output\n",
    "\n",
    "WORLD=\"dlr_kitchen\" \n",
    "\n",
    "INPUT_USD_PATH=$OUTPUT/$WORLD/usda/${WORLD}.usda\n",
    "OUTPUT_USD_PATH=$OUTPUT/$WORLD/usda/${WORLD}_flatten.usda\n",
    "\n",
    "usdcat $INPUT_USD_PATH -o $OUTPUT_USD_PATH --flatten\n",
    "python $PWD/../src/clean_up_usd.py --in_usd=$OUTPUT_USD_PATH --out_usd=$OUTPUT_USD_PATH"
   ]
  },
  {
   "cell_type": "markdown",
   "metadata": {
    "editable": false
   },
   "source": [
    "The result should appear as follows:\n",
    "\n",
    "![multiverse_knowledge_III1.png](images/multiverse_knowledge_III1.png)"
   ]
  },
  {
   "cell_type": "markdown",
   "metadata": {
    "editable": false
   },
   "source": [
    "### 2. Upload the above usd file to https://multiverse-framework.github.io/Multiverse-View/ and tag the semantic labels"
   ]
  },
  {
   "cell_type": "markdown",
   "metadata": {
    "editable": false
   },
   "source": [
    "The result should appear as follows:\n",
    "\n",
    "![multiverse_knowledge_III2.png](images/multiverse_knowledge_III2.png)"
   ]
  },
  {
   "cell_type": "markdown",
   "metadata": {
    "editable": false
   },
   "source": [
    "### 3. Download the semantic USD file"
   ]
  },
  {
   "cell_type": "markdown",
   "metadata": {
    "editable": false
   },
   "source": [
    "Download the semantic USD file by clicking on `Download` button, then move it into the output folder for further steps. You could skip this step if the semantic USD file is fine."
   ]
  },
  {
   "cell_type": "markdown",
   "metadata": {
    "editable": false
   },
   "source": [
    "## IV. Convert the semantic USD scene into a knowledge graph"
   ]
  },
  {
   "cell_type": "markdown",
   "metadata": {
    "editable": false
   },
   "source": [
    "Finally, the semantic USD scene can be converted into a knowledge graph for robots."
   ]
  },
  {
   "cell_type": "code",
   "execution_count": null,
   "metadata": {
    "editable": false
   },
   "outputs": [],
   "source": [
    "RESOURCES=$PWD/../src/ontology\n",
    "OUTPUT=$PWD/../output\n",
    "\n",
    "WORLD=\"dlr_kitchen\"\n",
    "\n",
    "INPUT_USD_PATH=$OUTPUT/$WORLD/usda/${WORLD}_semantic_flatten.usda\n",
    "INPUT_OWL_PATH=$RESOURCES/SOMA_DFL_module.owl\n",
    "OUTPUT_OWL_PATH=$OUTPUT/$WORLD/owl/${WORLD}.owl\n",
    "\n",
    "usd_to_ABox --in_usd=$INPUT_USD_PATH --in_owl=$INPUT_OWL_PATH --out_owl=$OUTPUT_OWL_PATH"
   ]
  },
  {
   "cell_type": "markdown",
   "metadata": {
    "editable": false
   },
   "source": [
    "The result should appear as follows:\n",
    "\n",
    "![multiverse_knowledge_IV.png](images/multiverse_knowledge_IV.png)"
   ]
  }
 ],
 "metadata": {
  "kernelspec": {
   "display_name": "Bash",
   "language": "bash",
   "name": "bash"
  },
  "language_info": {
   "codemirror_mode": "shell",
   "file_extension": ".sh",
   "mimetype": "text/x-sh",
   "name": "bash"
  }
 },
 "nbformat": 4,
 "nbformat_minor": 2
}
