{
 "cells": [
  {
   "cell_type": "markdown",
   "metadata": {},
   "source": [
    "# Multiverse Knowledge"
   ]
  },
  {
   "cell_type": "markdown",
   "metadata": {},
   "source": [
    "Make sure the [Multiverse Framework](https://github.com/Multiverse-Framework/Multiverse) is installed properly. To test the `multiverse_knowledge`, execute these commands below in a terminal:"
   ]
  },
  {
   "cell_type": "code",
   "execution_count": 1,
   "metadata": {},
   "outputs": [
    {
     "name": "stdout",
     "output_type": "stream",
     "text": [
      "usage: TBox_to_usd [-h] --in_owl IN_OWL --out_usd OUT_USD [--out_owl OUT_OWL]\n",
      "\n",
      "Converting the TBox ontology from OWL to USD, which represents the TBox\n",
      "\n",
      "optional arguments:\n",
      "  -h, --help         show this help message and exit\n",
      "  --in_owl IN_OWL    Input OWL\n",
      "  --out_usd OUT_USD  Output USD\n",
      "  --out_owl OUT_OWL  Output OWL (copy from input OWL)\n"
     ]
    }
   ],
   "source": [
    "TBox_to_usd --help"
   ]
  },
  {
   "cell_type": "code",
   "execution_count": 2,
   "metadata": {},
   "outputs": [
    {
     "name": "stdout",
     "output_type": "stream",
     "text": [
      "usage: semantic_tagging [-h] --in_usd IN_USD --in_TBox_usd IN_TBOX_USD\n",
      "                        --out_ABox_usd OUT_ABOX_USD\n",
      "\n",
      "Auto semantic tagging based on object names\n",
      "\n",
      "optional arguments:\n",
      "  -h, --help            show this help message and exit\n",
      "  --in_usd IN_USD       Input USD\n",
      "  --in_TBox_usd IN_TBOX_USD\n",
      "                        Input TBox USD\n",
      "  --out_ABox_usd OUT_ABOX_USD\n",
      "                        Output ABox USD\n"
     ]
    }
   ],
   "source": [
    "semantic_tagging --help"
   ]
  },
  {
   "cell_type": "code",
   "execution_count": 3,
   "metadata": {},
   "outputs": [
    {
     "name": "stdout",
     "output_type": "stream",
     "text": [
      "usage: semantic_reporting [-h] --in_usd IN_USD --in_TBox_usd IN_TBOX_USD\n",
      "                          --out_usd OUT_USD\n",
      "\n",
      "Auto semantic reporting based on object names\n",
      "\n",
      "optional arguments:\n",
      "  -h, --help            show this help message and exit\n",
      "  --in_usd IN_USD       Input USD\n",
      "  --in_TBox_usd IN_TBOX_USD\n",
      "                        Input TBox USD\n",
      "  --out_usd OUT_USD     Output USD\n"
     ]
    }
   ],
   "source": [
    "semantic_reporting --help"
   ]
  },
  {
   "cell_type": "code",
   "execution_count": 4,
   "metadata": {},
   "outputs": [
    {
     "name": "stdout",
     "output_type": "stream",
     "text": [
      "usage: usd_to_ABox [-h] --in_usd IN_USD --in_owl IN_OWL --out_owl OUT_OWL\n",
      "\n",
      "Convert from USD to ABox ontology using the TBox ontology\n",
      "\n",
      "optional arguments:\n",
      "  -h, --help         show this help message and exit\n",
      "  --in_usd IN_USD    Input USD\n",
      "  --in_owl IN_OWL    Input OWL\n",
      "  --out_owl OUT_OWL  Output OWL\n"
     ]
    }
   ],
   "source": [
    "usd_to_ABox --help"
   ]
  },
  {
   "cell_type": "markdown",
   "metadata": {},
   "source": [
    "## I. Generate a USD layer from an ontology for semantic tagging"
   ]
  },
  {
   "cell_type": "code",
   "execution_count": null,
   "metadata": {},
   "outputs": [],
   "source": [
    "RESOURCES=$PWD/../resources\n",
    "OUTPUT=$PWD/../output\n",
    "\n",
    "OBJECT=\"milk_box\" \n",
    "\n",
    "INPUT_OWL_PATH=$RESOURCES/$OBJECT/owl/${OBJECT}_TBox.owl\n",
    "OUTPUT_USD_PATH=$OUTPUT/$OBJECT/usda/${OBJECT}_TBox.usda\n",
    "\n",
    "# Depending on the size of the ontology, this could take a while\n",
    "TBox_to_usd --in_owl=$INPUT_OWL_PATH --out_usd=$OUTPUT_USD_PATH"
   ]
  },
  {
   "cell_type": "markdown",
   "metadata": {},
   "source": [
    "The result should appear as follows:\n",
    "\n",
    "![multiverse_knowledge_I.png](images/multiverse_knowledge_I.png)"
   ]
  },
  {
   "cell_type": "markdown",
   "metadata": {},
   "source": [
    "## II. Run automatic semantic reporting based on the object names"
   ]
  },
  {
   "cell_type": "code",
   "execution_count": null,
   "metadata": {},
   "outputs": [],
   "source": [
    "RESOURCES=$PWD/../resources\n",
    "OUTPUT=$PWD/../output\n",
    "\n",
    "OBJECT=\"milk_box\" \n",
    "\n",
    "INPUT_USD_PATH=$RESOURCES/$OBJECT/usd/${OBJECT}.usda\n",
    "INPUT_TBOX_USD_PATH=$OUTPUT/$OBJECT/usda/${OBJECT}_TBox.usda\n",
    "OUTPUT_USD_PATH=$OUTPUT/$OBJECT/usda/${OBJECT}.usda\n",
    "\n",
    "# The dfl importing might take a while \n",
    "semantic_reporting --in_usd=$INPUT_USD_PATH --in_TBox_usd=$INPUT_TBOX_USD_PATH --out_usd=$OUTPUT_USD_PATH"
   ]
  },
  {
   "cell_type": "markdown",
   "metadata": {},
   "source": [
    "The result should appear as follows:\n",
    "\n",
    "![multiverse_knowledge_II.png](images/multiverse_knowledge_II.png)"
   ]
  },
  {
   "cell_type": "markdown",
   "metadata": {},
   "source": [
    "## III. Use multiverse_view to for semantic labeling"
   ]
  },
  {
   "cell_type": "markdown",
   "metadata": {},
   "source": [
    "### 1. Flatten the above usd file into a single layer"
   ]
  },
  {
   "cell_type": "code",
   "execution_count": null,
   "metadata": {},
   "outputs": [],
   "source": [
    "OUTPUT=$PWD/../output\n",
    "\n",
    "OBJECT=\"milk_box\" \n",
    "\n",
    "INPUT_USD_PATH=$OUTPUT/$OBJECT/usda/${OBJECT}.usda\n",
    "OUTPUT_USD_PATH=$OUTPUT/$OBJECT/usda/${OBJECT}_flatten.usda\n",
    "\n",
    "usdcat $INPUT_USD_PATH -o $OUTPUT_USD_PATH --flatten"
   ]
  },
  {
   "cell_type": "markdown",
   "metadata": {},
   "source": [
    "The result should appear as follows:\n",
    "\n",
    "![multiverse_knowledge_III1.png](images/multiverse_knowledge_III1.png)"
   ]
  },
  {
   "cell_type": "markdown",
   "metadata": {},
   "source": [
    "### 2. Upload the above usd file to https://multiverse-framework.github.io/Multiverse-View/ and tag the semantic labels"
   ]
  },
  {
   "cell_type": "markdown",
   "metadata": {},
   "source": [
    "The result should appear as follows:\n",
    "\n",
    "![multiverse_knowledge_III2.png](images/multiverse_knowledge_III2.png)"
   ]
  },
  {
   "cell_type": "markdown",
   "metadata": {},
   "source": [
    "### 3. Download the semantic USD file"
   ]
  },
  {
   "cell_type": "markdown",
   "metadata": {},
   "source": [
    "Download the semantic USD file by clicking on `Download` button, then move it into the output folder for further steps"
   ]
  },
  {
   "cell_type": "code",
   "execution_count": null,
   "metadata": {},
   "outputs": [],
   "source": [
    "INPUT=~/Downloads # Your download folder\n",
    "OUTPUT=$PWD/../output\n",
    "\n",
    "OBJECT=\"milk_box\" \n",
    "\n",
    "INPUT_USD_PATH=$INPUT/${OBJECT}.usda\n",
    "OUTPUT_USD_PATH=$OUTPUT/$OBJECT/usda/${OBJECT}_semantic_flatten.usda\n",
    "\n",
    "mv $INPUT_USD_PATH $OUTPUT_USD_PATH"
   ]
  },
  {
   "cell_type": "markdown",
   "metadata": {},
   "source": [
    "## IV. Convert the semantic USD scene into a knowledge graph"
   ]
  },
  {
   "cell_type": "markdown",
   "metadata": {},
   "source": [
    "This step can be accomplished using Isaac Sim or by coding. The objective is to enrich the scene graph with additional data, transitioning from a static photo-realistic scene to a dynamic, collidable environment. This involves integrating physical constraints (joints) for articulation models and adding convex collision meshes for both the environment and the objects."
   ]
  },
  {
   "cell_type": "code",
   "execution_count": null,
   "metadata": {},
   "outputs": [],
   "source": [
    "RESOURCES=$PWD/../resources\n",
    "OUTPUT=$PWD/../output\n",
    "\n",
    "OBJECT=\"milk_box\" \n",
    "\n",
    "INPUT_USD_PATH=$OUTPUT/$OBJECT/usda/${OBJECT}_semantic_flatten.usda\n",
    "INPUT_OWL_PATH=$RESOURCES/$OBJECT/owl/${OBJECT}_TBox.owl\n",
    "OUTPUT_OWL_PATH=$OUTPUT/$OBJECT/owl/${OBJECT}.owl\n",
    "\n",
    "usd_to_ABox --in_usd=$INPUT_USD_PATH --in_owl=$INPUT_OWL_PATH --out_owl=$OUTPUT_OWL_PATH"
   ]
  },
  {
   "cell_type": "markdown",
   "metadata": {},
   "source": [
    "The result should appear as follows:\n",
    "\n",
    "![multiverse_knowledge_IV.png](images/multiverse_knowledge_IV.png)"
   ]
  }
 ],
 "metadata": {
  "kernelspec": {
   "display_name": "Bash",
   "language": "bash",
   "name": "bash"
  },
  "language_info": {
   "codemirror_mode": "shell",
   "file_extension": ".sh",
   "mimetype": "text/x-sh",
   "name": "bash"
  }
 },
 "nbformat": 4,
 "nbformat_minor": 2
}
