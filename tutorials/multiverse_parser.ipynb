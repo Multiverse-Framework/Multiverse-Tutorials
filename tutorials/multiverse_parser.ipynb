{
 "cells": [
  {
   "cell_type": "markdown",
   "metadata": {},
   "source": [
    "# Multiverse Parser"
   ]
  },
  {
   "cell_type": "markdown",
   "metadata": {},
   "source": [
    "Make sure the [Multiverse Framework](https://github.com/Multiverse-Framework/Multiverse) is installed properly. To test the `multiverse_parser`, execute this command below in a terminal:"
   ]
  },
  {
   "cell_type": "code",
   "execution_count": 1,
   "metadata": {},
   "outputs": [
    {
     "name": "stdout",
     "output_type": "stream",
     "text": [
      "usage: multiverse_parser [-h] --input INPUT --output OUTPUT [--fixed_base]\n",
      "                         [--add_xform_for_each_geom]\n",
      "                         [--relative_to_ros_package RELATIVE_TO_ROS_PACKAGE]\n",
      "                         [--no-physics] [--no-visual] [--no-collision]\n",
      "                         [--keepusd] [--inertiasource INERTIASOURCE]\n",
      "                         [--defaultrgba DEFAULTRGBA [DEFAULTRGBA ...]]\n",
      "\n",
      "Multiverse parser\n",
      "\n",
      "optional arguments:\n",
      "  -h, --help            show this help message and exit\n",
      "  --input INPUT         Import scene description as (URDF, MJCF, WORLD or USD)\n",
      "  --output OUTPUT       Export scene description as (URDF, MJCF, WORLD or USD)\n",
      "  --fixed_base          Set the base link as fixed\n",
      "  --add_xform_for_each_geom\n",
      "                        Add additional parent xform for each geom (only for\n",
      "                        input USD)\n",
      "  --relative_to_ros_package RELATIVE_TO_ROS_PACKAGE\n",
      "                        The path to the ROS package that contains the URDF\n",
      "                        file (only for output URDF)\n",
      "  --no-physics          Exclude the physics properties\n",
      "  --no-visual           Exclude the visual meshes\n",
      "  --no-collision        Exclude the collision meshes\n",
      "  --keepusd             Keep the temporary USD file after exporting\n",
      "  --inertiasource INERTIASOURCE\n",
      "                        Where to get the inertia from (from_src,\n",
      "                        from_visual_mesh or from_collision_mesh)\n",
      "  --defaultrgba DEFAULTRGBA [DEFAULTRGBA ...]\n",
      "                        The default color of the meshes\n"
     ]
    }
   ],
   "source": [
    "multiverse_parser --help"
   ]
  },
  {
   "cell_type": "markdown",
   "metadata": {},
   "source": [
    "## I. Convert models into USD"
   ]
  },
  {
   "cell_type": "markdown",
   "metadata": {},
   "source": [
    "### 1. Convert object models from MJCF to USD"
   ]
  },
  {
   "cell_type": "code",
   "execution_count": null,
   "metadata": {},
   "outputs": [],
   "source": [
    "RESOURCES=$PWD/../resources\n",
    "OUTPUT=$PWD/../output\n",
    "\n",
    "OBJECT=\"milk_box\" \n",
    "\n",
    "INPUT_MJCF_PATH=$RESOURCES/$OBJECT/mjcf/$OBJECT.xml\n",
    "OUTPUT_USD_PATH=$OUTPUT/$OBJECT/usda/$OBJECT.usda\n",
    "\n",
    "# Convert the model from MJCF to USD and compute the inertia from visual meshes\n",
    "multiverse_parser --input=$INPUT_MJCF_PATH --output=$OUTPUT_USD_PATH --inertiasource=from_visual_mesh\n",
    "\n",
    "# Visualize the input and output models\n",
    "multiverse_view $INPUT_MJCF_PATH $OUTPUT_USD_PATH"
   ]
  },
  {
   "cell_type": "markdown",
   "metadata": {},
   "source": [
    "The result should appear as follows:\n",
    "\n",
    "![multiverse_parser_I1.png](images/multiverse_parser_I1.png)"
   ]
  },
  {
   "cell_type": "markdown",
   "metadata": {},
   "source": [
    "### 2. Convert robot model from URDF to USD"
   ]
  },
  {
   "cell_type": "code",
   "execution_count": null,
   "metadata": {},
   "outputs": [],
   "source": [
    "RESOURCES=$PWD/../resources\n",
    "OUTPUT=$PWD/../output\n",
    "\n",
    "ROBOT=\"pr2\" \n",
    "\n",
    "INPUT_URDF_PATH=$RESOURCES/$ROBOT/urdf/$ROBOT.urdf\n",
    "OUTPUT_USD_PATH=$OUTPUT/$ROBOT/usda/$ROBOT.usda\n",
    "\n",
    "# Convert the model from URDF to USD and compute the inertia from visual meshes\n",
    "multiverse_parser --input=$INPUT_URDF_PATH --output=$OUTPUT_USD_PATH --inertiasource=from_visual_mesh\n",
    "\n",
    "# Visualize the input and output models\n",
    "multiverse_view $INPUT_URDF_PATH $OUTPUT_USD_PATH"
   ]
  },
  {
   "cell_type": "markdown",
   "metadata": {},
   "source": [
    "The result should appear as follows:\n",
    "\n",
    "![multiverse_parser_I2.png](images/multiverse_parser_I2.png)"
   ]
  },
  {
   "cell_type": "markdown",
   "metadata": {},
   "source": [
    "### 3. Convert environment model from USD to USD"
   ]
  },
  {
   "cell_type": "code",
   "execution_count": null,
   "metadata": {},
   "outputs": [],
   "source": [
    "RESOURCES=$PWD/../resources\n",
    "OUTPUT=$PWD/../output\n",
    "\n",
    "ENVIRONMENT=\"apartmentECAI\" \n",
    "\n",
    "INPUT_USD_PATH=$RESOURCES/$ENVIRONMENT/usda/$ENVIRONMENT.usda\n",
    "OUTPUT_USD_PATH=$OUTPUT/$ENVIRONMENT/usda/$ENVIRONMENT.usda\n",
    "\n",
    "# Convert the model from USD to USD and compute the inertia from visual meshes\n",
    "multiverse_parser --input=$INPUT_USD_PATH --output=$OUTPUT_USD_PATH --inertiasource=from_visual_mesh\n",
    "\n",
    "# Visualize the input and output models\n",
    "multiverse_view $INPUT_USD_PATH $OUTPUT_USD_PATH"
   ]
  },
  {
   "cell_type": "markdown",
   "metadata": {},
   "source": [
    "The result should appear as follows:\n",
    "\n",
    "![multiverse_parser_I3.png](images/multiverse_parser_I3.png)"
   ]
  },
  {
   "cell_type": "markdown",
   "metadata": {},
   "source": [
    "## II. Combine USD models into one USD scene"
   ]
  },
  {
   "cell_type": "markdown",
   "metadata": {},
   "source": [
    "This step can be accomplished using Isaac Sim or by coding. The objective is to enrich the scene graph with additional data, transitioning from a static photo-realistic scene to a dynamic, collidable environment. This involves integrating physical constraints (joints) for articulation models and adding convex collision meshes for both the environment and the objects."
   ]
  },
  {
   "cell_type": "code",
   "execution_count": null,
   "metadata": {},
   "outputs": [],
   "source": [
    "# Visualize the result\n",
    "\n",
    "RESOURCES=$PWD/../resources\n",
    "\n",
    "INPUT_USD_PATH=$RESOURCES/apartmentECAI_full/usda/apartmentECAI.usda\n",
    "\n",
    "multiverse_view $INPUT_USD_PATH"
   ]
  },
  {
   "cell_type": "markdown",
   "metadata": {},
   "source": [
    "The result should appear as follows:\n",
    "\n",
    "![multiverse_parser_II.png](images/multiverse_parser_II.png)"
   ]
  },
  {
   "cell_type": "markdown",
   "metadata": {},
   "source": [
    "## III. Convert the scene graph from USD to other formats"
   ]
  },
  {
   "cell_type": "markdown",
   "metadata": {},
   "source": [
    "### 1. Convert object models from USD to MJCF and URDF"
   ]
  },
  {
   "cell_type": "code",
   "execution_count": null,
   "metadata": {},
   "outputs": [],
   "source": [
    "INPUT=$PWD/../output/ # We take the model converted from I.1.\n",
    "OUTPUT=$PWD/../output\n",
    "\n",
    "OBJECT=\"milk_box\" \n",
    "\n",
    "INPUT_USD_PATH=$INPUT/$OBJECT/usda/$OBJECT.usda\n",
    "OUTPUT_MJCF_PATH=$OUTPUT/$OBJECT/mjcf/$OBJECT.xml\n",
    "OUTPUT_URDF_PATH=$OUTPUT/$OBJECT/urdf/$OBJECT.urdf\n",
    "\n",
    "# Convert the model in MJCF to USD and compute the inertia from source\n",
    "multiverse_parser --input=$INPUT_USD_PATH --output=$OUTPUT_MJCF_PATH --inertiasource=from_src --defaultrgba=\"[0,0,0,0]\"\n",
    "multiverse_parser --input=$INPUT_USD_PATH --output=$OUTPUT_URDF_PATH --inertiasource=from_src --defaultrgba=\"[0,0,0,0]\"\n",
    "\n",
    "# Visualize the all input and output models\n",
    "multiverse_view $INPUT_USD_PATH $OUTPUT_MJCF_PATH $OUTPUT_URDF_PATH"
   ]
  },
  {
   "cell_type": "markdown",
   "metadata": {},
   "source": [
    "The result should appear as follows:\n",
    "\n",
    "![multiverse_parser_III1.png](images/multiverse_parser_III1.png)"
   ]
  },
  {
   "cell_type": "markdown",
   "metadata": {},
   "source": [
    "### 2. Convert robot models from USD to MJCF and URDF"
   ]
  },
  {
   "cell_type": "code",
   "execution_count": null,
   "metadata": {},
   "outputs": [],
   "source": [
    "RESOURCES=$PWD/../output/\n",
    "OUTPUT=$PWD/../output\n",
    "\n",
    "ROBOT=\"pr2\"\n",
    "\n",
    "INPUT_USD_PATH=$OUTPUT/$ROBOT/usda/$ROBOT.usda\n",
    "OUTPUT_MJCF_PATH=$OUTPUT/$ROBOT/mjcf/$ROBOT.xml\n",
    "OUTPUT_URDF_PATH=$OUTPUT/$ROBOT/urdf/$ROBOT.urdf\n",
    "\n",
    "# Convert the model from MJCF to USD and compute the inertia from source\n",
    "multiverse_parser --input=$INPUT_USD_PATH --output=$OUTPUT_MJCF_PATH --inertiasource=from_src --defaultrgba=\"[0,0,0,0]\"\n",
    "multiverse_parser --input=$INPUT_USD_PATH --output=$OUTPUT_URDF_PATH --inertiasource=from_src --defaultrgba=\"[0,0,0,0]\"\n",
    "\n",
    "# Visualize the all input and output models\n",
    "multiverse_view $INPUT_USD_PATH $OUTPUT_MJCF_PATH $OUTPUT_URDF_PATH"
   ]
  },
  {
   "cell_type": "markdown",
   "metadata": {},
   "source": [
    "The result should appear as follows:\n",
    "\n",
    "![multiverse_parser_III2.png](images/multiverse_parser_III2.png)"
   ]
  },
  {
   "cell_type": "markdown",
   "metadata": {},
   "source": [
    "# IV. Test for transitivity"
   ]
  },
  {
   "cell_type": "code",
   "execution_count": null,
   "metadata": {},
   "outputs": [],
   "source": [
    "RESOURCES=$PWD/../resources\n",
    "OUTPUT=$PWD/../output\n",
    "\n",
    "INPUT_MJCF_PATH=$RESOURCES/anybotics_anymal_b/anymal_b.xml\n",
    "OUTPUT_MJCF_PATH=$OUTPUT/anymal_b/mjcf/anymal_b.xml\n",
    "\n",
    "# Convert the model from MJCF to USD and back to MJCF and keep the inertia\n",
    "multiverse_parser --input=$INPUT_MJCF_PATH --output=$OUTPUT_MJCF_PATH --inertiasource=from_src --defaultrgba=\"[0,0,0,0]\"\n",
    "\n",
    "# Visualize the all input and output models\n",
    "multiverse_view $INPUT_MJCF_PATH $OUTPUT_MJCF_PATH"
   ]
  },
  {
   "cell_type": "markdown",
   "metadata": {},
   "source": [
    "The result should appear as follows:\n",
    "\n",
    "![multiverse_parser_IV.png](images/multiverse_parser_IV.png)"
   ]
  }
 ],
 "metadata": {
  "kernelspec": {
   "display_name": "Bash",
   "language": "bash",
   "name": "bash"
  },
  "language_info": {
   "codemirror_mode": "shell",
   "file_extension": ".sh",
   "mimetype": "text/x-sh",
   "name": "bash"
  }
 },
 "nbformat": 4,
 "nbformat_minor": 2
}
